{
  "nbformat": 4,
  "nbformat_minor": 0,
  "metadata": {
    "colab": {
      "provenance": []
    },
    "kernelspec": {
      "name": "python3",
      "display_name": "Python 3"
    },
    "language_info": {
      "name": "python"
    }
  },
  "cells": [
    {
      "cell_type": "markdown",
      "source": [
        "# Vorbereitung"
      ],
      "metadata": {
        "id": "s22tFK8Sq-7i"
      }
    },
    {
      "cell_type": "markdown",
      "source": [
        "## Pakete laden"
      ],
      "metadata": {
        "id": "nVnt1V6FrGr8"
      }
    },
    {
      "cell_type": "code",
      "execution_count": 25,
      "metadata": {
        "id": "dBNs4Z7fmKC7"
      },
      "outputs": [],
      "source": [
        "import pandas as pd\n",
        "import numpy as np\n",
        "import matplotlib.pyplot as plt\n",
        "import seaborn as sns\n",
        "\n",
        "from sklearn.preprocessing import StandardScaler    # Standardisiert Features (Mittelwert=0, Varianz=1) für vergleichbare Skalen"
      ]
    },
    {
      "cell_type": "markdown",
      "source": [
        "## Daten laden und explorieren"
      ],
      "metadata": {
        "id": "pXvuj3SqrKlf"
      }
    },
    {
      "cell_type": "markdown",
      "source": [
        "### Daten laden"
      ],
      "metadata": {
        "id": "j52gOsMsrcoN"
      }
    },
    {
      "cell_type": "code",
      "source": [
        "from sklearn.datasets import load_breast_cancer\n",
        "cancer = load_breast_cancer()\n",
        "X = cancer.data\n",
        "y = cancer.target\n",
        "print(type(y))\n",
        "\n",
        "X_names = cancer.feature_names\n",
        "y_names = cancer.target_names"
      ],
      "metadata": {
        "colab": {
          "base_uri": "https://localhost:8080/"
        },
        "id": "nmHiwjWGmUK5",
        "outputId": "229553ea-a877-4292-dc3a-97ee9800c56d"
      },
      "execution_count": 26,
      "outputs": [
        {
          "output_type": "stream",
          "name": "stdout",
          "text": [
            "<class 'numpy.ndarray'>\n"
          ]
        }
      ]
    },
    {
      "cell_type": "code",
      "source": [
        "# Welche Form haben die Daten?\n",
        "print(\"Shape of X:\", X.shape)\n",
        "print(\"Shape of y:\", y.shape,\"\\n\")\n",
        "\n",
        "print(\"Feature names: \", X_names,\"\\n\")\n",
        "print(\"Target names: \", y_names, \"\\n\")"
      ],
      "metadata": {
        "colab": {
          "base_uri": "https://localhost:8080/"
        },
        "id": "tOhcNH_WqWZQ",
        "outputId": "f21386b4-e737-46fd-8173-e7e89f88c85e"
      },
      "execution_count": 27,
      "outputs": [
        {
          "output_type": "stream",
          "name": "stdout",
          "text": [
            "Shape of X: (569, 30)\n",
            "Shape of y: (569,) \n",
            "\n",
            "Feature names:  ['mean radius' 'mean texture' 'mean perimeter' 'mean area'\n",
            " 'mean smoothness' 'mean compactness' 'mean concavity'\n",
            " 'mean concave points' 'mean symmetry' 'mean fractal dimension'\n",
            " 'radius error' 'texture error' 'perimeter error' 'area error'\n",
            " 'smoothness error' 'compactness error' 'concavity error'\n",
            " 'concave points error' 'symmetry error' 'fractal dimension error'\n",
            " 'worst radius' 'worst texture' 'worst perimeter' 'worst area'\n",
            " 'worst smoothness' 'worst compactness' 'worst concavity'\n",
            " 'worst concave points' 'worst symmetry' 'worst fractal dimension'] \n",
            "\n",
            "Target names:  ['malignant' 'benign'] \n",
            "\n"
          ]
        }
      ]
    },
    {
      "cell_type": "markdown",
      "source": [
        "### Daten ausgeben"
      ],
      "metadata": {
        "id": "pVPh60_bre6I"
      }
    },
    {
      "cell_type": "code",
      "source": [
        "# Ein DataFrame aus den Daten erstellen für eine schönere Ausgabe\n",
        "X_part = pd.DataFrame(X, columns=X_names)\n",
        "y_part = pd.Series(y, name=\"target\")\n",
        "cancer_df = pd.concat([X_part, y_part], axis=1)\n",
        "\n",
        "print(cancer_df.head(n=12).to_markdown(floatfmt=\".2f\"))"
      ],
      "metadata": {
        "colab": {
          "base_uri": "https://localhost:8080/"
        },
        "id": "etDcG6ifrWzB",
        "outputId": "cb512a6d-856b-4e28-a1f5-115d42240f4b"
      },
      "execution_count": 28,
      "outputs": [
        {
          "output_type": "stream",
          "name": "stdout",
          "text": [
            "|    |   mean radius |   mean texture |   mean perimeter |   mean area |   mean smoothness |   mean compactness |   mean concavity |   mean concave points |   mean symmetry |   mean fractal dimension |   radius error |   texture error |   perimeter error |   area error |   smoothness error |   compactness error |   concavity error |   concave points error |   symmetry error |   fractal dimension error |   worst radius |   worst texture |   worst perimeter |   worst area |   worst smoothness |   worst compactness |   worst concavity |   worst concave points |   worst symmetry |   worst fractal dimension |   target |\n",
            "|---:|--------------:|---------------:|-----------------:|------------:|------------------:|-------------------:|-----------------:|----------------------:|----------------:|-------------------------:|---------------:|----------------:|------------------:|-------------:|-------------------:|--------------------:|------------------:|-----------------------:|-----------------:|--------------------------:|---------------:|----------------:|------------------:|-------------:|-------------------:|--------------------:|------------------:|-----------------------:|-----------------:|--------------------------:|---------:|\n",
            "|  0 |         17.99 |          10.38 |           122.80 |     1001.00 |              0.12 |               0.28 |             0.30 |                  0.15 |            0.24 |                     0.08 |           1.09 |            0.91 |              8.59 |       153.40 |               0.01 |                0.05 |              0.05 |                   0.02 |             0.03 |                      0.01 |          25.38 |           17.33 |            184.60 |      2019.00 |               0.16 |                0.67 |              0.71 |                   0.27 |             0.46 |                      0.12 |     0.00 |\n",
            "|  1 |         20.57 |          17.77 |           132.90 |     1326.00 |              0.08 |               0.08 |             0.09 |                  0.07 |            0.18 |                     0.06 |           0.54 |            0.73 |              3.40 |        74.08 |               0.01 |                0.01 |              0.02 |                   0.01 |             0.01 |                      0.00 |          24.99 |           23.41 |            158.80 |      1956.00 |               0.12 |                0.19 |              0.24 |                   0.19 |             0.28 |                      0.09 |     0.00 |\n",
            "|  2 |         19.69 |          21.25 |           130.00 |     1203.00 |              0.11 |               0.16 |             0.20 |                  0.13 |            0.21 |                     0.06 |           0.75 |            0.79 |              4.58 |        94.03 |               0.01 |                0.04 |              0.04 |                   0.02 |             0.02 |                      0.00 |          23.57 |           25.53 |            152.50 |      1709.00 |               0.14 |                0.42 |              0.45 |                   0.24 |             0.36 |                      0.09 |     0.00 |\n",
            "|  3 |         11.42 |          20.38 |            77.58 |      386.10 |              0.14 |               0.28 |             0.24 |                  0.11 |            0.26 |                     0.10 |           0.50 |            1.16 |              3.44 |        27.23 |               0.01 |                0.07 |              0.06 |                   0.02 |             0.06 |                      0.01 |          14.91 |           26.50 |             98.87 |       567.70 |               0.21 |                0.87 |              0.69 |                   0.26 |             0.66 |                      0.17 |     0.00 |\n",
            "|  4 |         20.29 |          14.34 |           135.10 |     1297.00 |              0.10 |               0.13 |             0.20 |                  0.10 |            0.18 |                     0.06 |           0.76 |            0.78 |              5.44 |        94.44 |               0.01 |                0.02 |              0.06 |                   0.02 |             0.02 |                      0.01 |          22.54 |           16.67 |            152.20 |      1575.00 |               0.14 |                0.20 |              0.40 |                   0.16 |             0.24 |                      0.08 |     0.00 |\n",
            "|  5 |         12.45 |          15.70 |            82.57 |      477.10 |              0.13 |               0.17 |             0.16 |                  0.08 |            0.21 |                     0.08 |           0.33 |            0.89 |              2.22 |        27.19 |               0.01 |                0.03 |              0.04 |                   0.01 |             0.02 |                      0.01 |          15.47 |           23.75 |            103.40 |       741.60 |               0.18 |                0.52 |              0.54 |                   0.17 |             0.40 |                      0.12 |     0.00 |\n",
            "|  6 |         18.25 |          19.98 |           119.60 |     1040.00 |              0.09 |               0.11 |             0.11 |                  0.07 |            0.18 |                     0.06 |           0.45 |            0.77 |              3.18 |        53.91 |               0.00 |                0.01 |              0.02 |                   0.01 |             0.01 |                      0.00 |          22.88 |           27.66 |            153.20 |      1606.00 |               0.14 |                0.26 |              0.38 |                   0.19 |             0.31 |                      0.08 |     0.00 |\n",
            "|  7 |         13.71 |          20.83 |            90.20 |      577.90 |              0.12 |               0.16 |             0.09 |                  0.06 |            0.22 |                     0.07 |           0.58 |            1.38 |              3.86 |        50.96 |               0.01 |                0.03 |              0.02 |                   0.01 |             0.01 |                      0.01 |          17.06 |           28.14 |            110.60 |       897.00 |               0.17 |                0.37 |              0.27 |                   0.16 |             0.32 |                      0.12 |     0.00 |\n",
            "|  8 |         13.00 |          21.82 |            87.50 |      519.80 |              0.13 |               0.19 |             0.19 |                  0.09 |            0.23 |                     0.07 |           0.31 |            1.00 |              2.41 |        24.32 |               0.01 |                0.04 |              0.04 |                   0.01 |             0.02 |                      0.00 |          15.49 |           30.73 |            106.20 |       739.30 |               0.17 |                0.54 |              0.54 |                   0.21 |             0.44 |                      0.11 |     0.00 |\n",
            "|  9 |         12.46 |          24.04 |            83.97 |      475.90 |              0.12 |               0.24 |             0.23 |                  0.09 |            0.20 |                     0.08 |           0.30 |            1.60 |              2.04 |        23.94 |               0.01 |                0.07 |              0.08 |                   0.01 |             0.02 |                      0.01 |          15.09 |           40.68 |             97.65 |       711.40 |               0.19 |                1.06 |              1.10 |                   0.22 |             0.44 |                      0.21 |     0.00 |\n",
            "| 10 |         16.02 |          23.24 |           102.70 |      797.80 |              0.08 |               0.07 |             0.03 |                  0.03 |            0.15 |                     0.06 |           0.38 |            1.19 |              2.47 |        40.51 |               0.00 |                0.01 |              0.01 |                   0.01 |             0.01 |                      0.00 |          19.19 |           33.88 |            123.80 |      1150.00 |               0.12 |                0.16 |              0.15 |                   0.10 |             0.29 |                      0.08 |     0.00 |\n",
            "| 11 |         15.78 |          17.89 |           103.60 |      781.00 |              0.10 |               0.13 |             0.10 |                  0.07 |            0.18 |                     0.06 |           0.51 |            0.98 |              3.56 |        54.16 |               0.01 |                0.04 |              0.03 |                   0.01 |             0.02 |                      0.00 |          20.42 |           27.28 |            136.50 |      1299.00 |               0.14 |                0.56 |              0.40 |                   0.18 |             0.38 |                      0.10 |     0.00 |\n"
          ]
        }
      ]
    },
    {
      "cell_type": "code",
      "source": [
        "# Beschreibung und statistische Übersicht der Kennzahlen der Daten ansehen\n",
        "print(\"\\nKennzahlen der Daten:\")\n",
        "\n",
        "print(cancer_df.describe().to_markdown(floatfmt=\".3f\"))"
      ],
      "metadata": {
        "colab": {
          "base_uri": "https://localhost:8080/"
        },
        "id": "MDxglJOrsGVA",
        "outputId": "9b7e5715-8a19-4483-edcb-4479a3b223ed"
      },
      "execution_count": 29,
      "outputs": [
        {
          "output_type": "stream",
          "name": "stdout",
          "text": [
            "\n",
            "Kennzahlen der Daten:\n",
            "|       |   mean radius |   mean texture |   mean perimeter |   mean area |   mean smoothness |   mean compactness |   mean concavity |   mean concave points |   mean symmetry |   mean fractal dimension |   radius error |   texture error |   perimeter error |   area error |   smoothness error |   compactness error |   concavity error |   concave points error |   symmetry error |   fractal dimension error |   worst radius |   worst texture |   worst perimeter |   worst area |   worst smoothness |   worst compactness |   worst concavity |   worst concave points |   worst symmetry |   worst fractal dimension |   target |\n",
            "|:------|--------------:|---------------:|-----------------:|------------:|------------------:|-------------------:|-----------------:|----------------------:|----------------:|-------------------------:|---------------:|----------------:|------------------:|-------------:|-------------------:|--------------------:|------------------:|-----------------------:|-----------------:|--------------------------:|---------------:|----------------:|------------------:|-------------:|-------------------:|--------------------:|------------------:|-----------------------:|-----------------:|--------------------------:|---------:|\n",
            "| count |       569.000 |        569.000 |          569.000 |     569.000 |           569.000 |            569.000 |          569.000 |               569.000 |         569.000 |                  569.000 |        569.000 |         569.000 |           569.000 |      569.000 |            569.000 |             569.000 |           569.000 |                569.000 |          569.000 |                   569.000 |        569.000 |         569.000 |           569.000 |      569.000 |            569.000 |             569.000 |           569.000 |                569.000 |          569.000 |                   569.000 |  569.000 |\n",
            "| mean  |        14.127 |         19.290 |           91.969 |     654.889 |             0.096 |              0.104 |            0.089 |                 0.049 |           0.181 |                    0.063 |          0.405 |           1.217 |             2.866 |       40.337 |              0.007 |               0.025 |             0.032 |                  0.012 |            0.021 |                     0.004 |         16.269 |          25.677 |           107.261 |      880.583 |              0.132 |               0.254 |             0.272 |                  0.115 |            0.290 |                     0.084 |    0.627 |\n",
            "| std   |         3.524 |          4.301 |           24.299 |     351.914 |             0.014 |              0.053 |            0.080 |                 0.039 |           0.027 |                    0.007 |          0.277 |           0.552 |             2.022 |       45.491 |              0.003 |               0.018 |             0.030 |                  0.006 |            0.008 |                     0.003 |          4.833 |           6.146 |            33.603 |      569.357 |              0.023 |               0.157 |             0.209 |                  0.066 |            0.062 |                     0.018 |    0.484 |\n",
            "| min   |         6.981 |          9.710 |           43.790 |     143.500 |             0.053 |              0.019 |            0.000 |                 0.000 |           0.106 |                    0.050 |          0.112 |           0.360 |             0.757 |        6.802 |              0.002 |               0.002 |             0.000 |                  0.000 |            0.008 |                     0.001 |          7.930 |          12.020 |            50.410 |      185.200 |              0.071 |               0.027 |             0.000 |                  0.000 |            0.157 |                     0.055 |    0.000 |\n",
            "| 25%   |        11.700 |         16.170 |           75.170 |     420.300 |             0.086 |              0.065 |            0.030 |                 0.020 |           0.162 |                    0.058 |          0.232 |           0.834 |             1.606 |       17.850 |              0.005 |               0.013 |             0.015 |                  0.008 |            0.015 |                     0.002 |         13.010 |          21.080 |            84.110 |      515.300 |              0.117 |               0.147 |             0.115 |                  0.065 |            0.250 |                     0.071 |    0.000 |\n",
            "| 50%   |        13.370 |         18.840 |           86.240 |     551.100 |             0.096 |              0.093 |            0.062 |                 0.034 |           0.179 |                    0.062 |          0.324 |           1.108 |             2.287 |       24.530 |              0.006 |               0.020 |             0.026 |                  0.011 |            0.019 |                     0.003 |         14.970 |          25.410 |            97.660 |      686.500 |              0.131 |               0.212 |             0.227 |                  0.100 |            0.282 |                     0.080 |    1.000 |\n",
            "| 75%   |        15.780 |         21.800 |          104.100 |     782.700 |             0.105 |              0.130 |            0.131 |                 0.074 |           0.196 |                    0.066 |          0.479 |           1.474 |             3.357 |       45.190 |              0.008 |               0.032 |             0.042 |                  0.015 |            0.023 |                     0.005 |         18.790 |          29.720 |           125.400 |     1084.000 |              0.146 |               0.339 |             0.383 |                  0.161 |            0.318 |                     0.092 |    1.000 |\n",
            "| max   |        28.110 |         39.280 |          188.500 |    2501.000 |             0.163 |              0.345 |            0.427 |                 0.201 |           0.304 |                    0.097 |          2.873 |           4.885 |            21.980 |      542.200 |              0.031 |               0.135 |             0.396 |                  0.053 |            0.079 |                     0.030 |         36.040 |          49.540 |           251.200 |     4254.000 |              0.223 |               1.058 |             1.252 |                  0.291 |            0.664 |                     0.207 |    1.000 |\n"
          ]
        }
      ]
    },
    {
      "cell_type": "markdown",
      "source": [
        "# **PCA durchführen**"
      ],
      "metadata": {
        "id": "vksQX3w6rCqT"
      }
    },
    {
      "cell_type": "markdown",
      "source": [
        "Beachten Sie, dass die PCA nur auf den Features und nicht dem target durchgeführt wird!"
      ],
      "metadata": {
        "id": "0tQBiaYjs_xj"
      }
    },
    {
      "cell_type": "markdown",
      "source": [
        "### **Schritt 1**: Daten standardisieren"
      ],
      "metadata": {
        "id": "X-ZuN484scSH"
      }
    },
    {
      "cell_type": "code",
      "source": [
        "## Die Daten standardisieren oder nur zentrieren? true=standardisieren / false=nur zentrieren\n",
        "standardisieren = False\n",
        "\n",
        "if (standardisieren):\n",
        "    # Daten standardisieren\n",
        "    scaler = StandardScaler()\n",
        "    X_scaled = pd.DataFrame(scaler.fit_transform(X), columns=X_names)\n",
        "else:\n",
        "    # Daten zentrieren\n",
        "    mean_values = X.mean(axis=0)\n",
        "    X_scaled = pd.DataFrame(X - mean_values, columns=X_names)\n",
        "\n",
        "print(X_scaled.head(n=20).to_markdown(floatfmt=\".3f\"))\n",
        "\n"
      ],
      "metadata": {
        "colab": {
          "base_uri": "https://localhost:8080/"
        },
        "id": "AR7JoMTVsbWF",
        "outputId": "4e4450e2-a91c-4445-e974-7d421bf49199"
      },
      "execution_count": 30,
      "outputs": [
        {
          "output_type": "stream",
          "name": "stdout",
          "text": [
            "|    |   mean radius |   mean texture |   mean perimeter |   mean area |   mean smoothness |   mean compactness |   mean concavity |   mean concave points |   mean symmetry |   mean fractal dimension |   radius error |   texture error |   perimeter error |   area error |   smoothness error |   compactness error |   concavity error |   concave points error |   symmetry error |   fractal dimension error |   worst radius |   worst texture |   worst perimeter |   worst area |   worst smoothness |   worst compactness |   worst concavity |   worst concave points |   worst symmetry |   worst fractal dimension |\n",
            "|---:|--------------:|---------------:|-----------------:|------------:|------------------:|-------------------:|-----------------:|----------------------:|----------------:|-------------------------:|---------------:|----------------:|------------------:|-------------:|-------------------:|--------------------:|------------------:|-----------------------:|-----------------:|--------------------------:|---------------:|----------------:|------------------:|-------------:|-------------------:|--------------------:|------------------:|-----------------------:|-----------------:|--------------------------:|\n",
            "|  0 |         3.863 |         -8.910 |           30.831 |     346.111 |             0.022 |              0.173 |            0.211 |                 0.098 |           0.061 |                    0.016 |          0.690 |          -0.312 |             5.723 |      113.063 |             -0.001 |               0.024 |             0.022 |                  0.004 |            0.009 |                     0.002 |          9.111 |          -8.347 |            77.339 |     1138.417 |              0.030 |               0.411 |             0.440 |                  0.151 |            0.170 |                     0.035 |\n",
            "|  1 |         6.443 |         -1.520 |           40.931 |     671.111 |            -0.012 |             -0.026 |           -0.002 |                 0.021 |           0.000 |                   -0.006 |          0.138 |          -0.483 |             0.532 |       33.743 |             -0.002 |              -0.012 |            -0.013 |                  0.002 |           -0.007 |                    -0.000 |          8.721 |          -2.267 |            51.539 |     1075.417 |             -0.009 |              -0.068 |            -0.031 |                  0.071 |           -0.015 |                     0.005 |\n",
            "|  2 |         5.563 |          1.960 |           38.031 |     548.111 |             0.013 |              0.056 |            0.109 |                 0.079 |           0.026 |                   -0.003 |          0.340 |          -0.430 |             1.719 |       53.693 |             -0.001 |               0.015 |             0.006 |                  0.009 |            0.002 |                     0.001 |          7.301 |          -0.147 |            45.239 |      828.417 |              0.012 |               0.170 |             0.178 |                  0.128 |            0.071 |                     0.004 |\n",
            "|  3 |        -2.707 |          1.090 |          -14.389 |    -268.789 |             0.046 |              0.180 |            0.153 |                 0.056 |           0.079 |                    0.035 |          0.090 |          -0.061 |             0.579 |      -13.107 |              0.002 |               0.049 |             0.025 |                  0.007 |            0.039 |                     0.005 |         -1.359 |           0.823 |            -8.391 |     -312.883 |              0.077 |               0.612 |             0.415 |                  0.143 |            0.374 |                     0.089 |\n",
            "|  4 |         6.163 |         -4.950 |           43.131 |     642.111 |             0.004 |              0.028 |            0.109 |                 0.055 |          -0.000 |                   -0.004 |          0.352 |          -0.436 |             2.572 |       54.103 |              0.004 |              -0.001 |             0.025 |                  0.007 |           -0.003 |                     0.001 |          6.271 |          -9.007 |            44.939 |      694.417 |              0.005 |              -0.049 |             0.128 |                  0.048 |           -0.054 |                    -0.007 |\n",
            "|  5 |        -1.677 |         -3.590 |           -9.399 |    -177.789 |             0.031 |              0.066 |            0.069 |                 0.032 |           0.028 |                    0.013 |         -0.071 |          -0.327 |            -0.649 |      -13.147 |              0.000 |               0.008 |             0.005 |                 -0.000 |            0.001 |                     0.001 |         -0.799 |          -1.927 |            -3.861 |     -138.983 |              0.047 |               0.271 |             0.263 |                  0.059 |            0.108 |                     0.040 |\n",
            "|  6 |         4.123 |          0.690 |           27.631 |     385.111 |            -0.002 |              0.005 |            0.024 |                 0.025 |          -0.002 |                   -0.005 |          0.042 |          -0.444 |             0.314 |       13.573 |             -0.003 |              -0.012 |            -0.009 |                 -0.001 |           -0.007 |                    -0.002 |          6.611 |           1.983 |            45.939 |      725.417 |              0.012 |               0.003 |             0.106 |                  0.079 |            0.016 |                    -0.000 |\n",
            "|  7 |        -0.417 |          1.540 |           -1.769 |     -76.989 |             0.023 |              0.060 |            0.005 |                 0.011 |           0.038 |                    0.012 |          0.178 |           0.160 |             0.990 |       10.623 |              0.002 |               0.005 |            -0.007 |                  0.003 |           -0.006 |                     0.002 |          0.791 |           2.463 |             3.339 |       16.417 |              0.033 |               0.114 |            -0.004 |                  0.041 |            0.030 |                     0.031 |\n",
            "|  8 |        -1.127 |          2.530 |           -4.469 |    -135.089 |             0.031 |              0.089 |            0.097 |                 0.045 |           0.054 |                    0.011 |         -0.099 |          -0.215 |            -0.460 |      -16.017 |             -0.001 |               0.010 |             0.004 |                  0.000 |            0.001 |                    -0.000 |         -0.779 |           5.053 |            -1.061 |     -141.283 |              0.038 |               0.286 |             0.267 |                  0.091 |            0.148 |                     0.023 |\n",
            "|  9 |        -1.667 |          4.750 |           -7.999 |    -178.989 |             0.022 |              0.135 |            0.139 |                 0.037 |           0.022 |                    0.020 |         -0.108 |           0.382 |            -0.827 |      -16.397 |              0.000 |               0.047 |             0.046 |                  0.003 |           -0.003 |                     0.006 |         -1.179 |          15.003 |            -9.611 |     -169.183 |              0.053 |               0.804 |             0.833 |                  0.106 |            0.147 |                     0.124 |\n",
            "| 10 |         1.893 |          3.950 |           10.731 |     142.911 |            -0.014 |             -0.038 |           -0.056 |                -0.016 |          -0.028 |                   -0.006 |         -0.026 |          -0.030 |            -0.400 |        0.173 |             -0.003 |              -0.016 |            -0.021 |                 -0.004 |           -0.006 |                    -0.001 |          2.921 |           8.203 |            16.539 |      269.417 |             -0.014 |              -0.099 |            -0.126 |                 -0.015 |            0.005 |                     0.001 |\n",
            "| 11 |         1.653 |         -1.400 |           11.631 |     126.111 |             0.001 |              0.025 |            0.011 |                 0.017 |           0.003 |                   -0.002 |          0.101 |          -0.232 |             0.698 |       13.823 |             -0.001 |               0.015 |            -0.004 |                  0.001 |           -0.000 |                     0.000 |          4.151 |           1.603 |            29.239 |      418.417 |              0.007 |               0.307 |             0.124 |                  0.066 |            0.089 |                     0.021 |\n",
            "| 12 |         5.043 |          5.510 |           40.431 |     468.111 |             0.001 |              0.141 |            0.118 |                 0.063 |           0.059 |                    0.015 |          0.550 |           2.351 |             8.204 |       75.863 |             -0.004 |               0.057 |             0.057 |                  0.029 |            0.024 |                     0.009 |          4.691 |           4.263 |            44.439 |      451.417 |             -0.029 |               0.136 |             0.092 |                  0.062 |            0.028 |                     0.018 |\n",
            "| 13 |         1.723 |          4.660 |           11.731 |     127.811 |            -0.012 |             -0.004 |            0.011 |                 0.005 |           0.004 |                   -0.009 |         -0.002 |          -0.139 |             0.037 |       -3.757 |              0.003 |               0.006 |             0.019 |                  0.008 |            0.009 |                    -0.001 |          0.571 |           1.983 |             4.739 |       -4.083 |             -0.019 |              -0.062 |            -0.040 |                 -0.003 |           -0.009 |                    -0.021 |\n",
            "| 14 |        -0.397 |          3.320 |            1.631 |     -76.589 |             0.017 |              0.125 |            0.124 |                 0.031 |           0.026 |                    0.014 |         -0.193 |          -0.048 |            -0.805 |      -21.127 |             -0.001 |               0.034 |             0.023 |                  0.004 |           -0.001 |                     0.004 |         -1.239 |           6.333 |             1.539 |     -182.883 |              0.033 |               0.518 |             0.422 |                  0.106 |            0.070 |                     0.059 |\n",
            "| 15 |         0.413 |          8.250 |            4.761 |       3.911 |             0.018 |              0.055 |            0.075 |                 0.025 |           0.049 |                    0.008 |         -0.035 |          -0.184 |             0.013 |       -7.787 |             -0.001 |               0.017 |             0.016 |                 -0.001 |           -0.002 |                     0.002 |          1.191 |          11.453 |            16.839 |       62.617 |              0.035 |               0.403 |             0.430 |                  0.057 |            0.132 |                     0.050 |\n",
            "| 16 |         0.553 |          0.840 |            2.771 |      29.611 |             0.002 |             -0.032 |           -0.015 |                 0.004 |          -0.023 |                   -0.004 |          0.068 |           0.023 |             0.329 |        5.063 |             -0.001 |              -0.014 |            -0.012 |                 -0.001 |           -0.006 |                    -0.002 |          2.801 |           5.203 |            16.139 |      257.417 |              0.014 |              -0.067 |             0.019 |                  0.046 |            0.013 |                    -0.002 |\n",
            "| 17 |         2.003 |          1.390 |           16.131 |     143.911 |             0.021 |              0.098 |            0.083 |                 0.054 |           0.035 |                    0.011 |          0.164 |          -0.144 |             0.988 |       13.843 |             -0.000 |              -0.000 |            -0.000 |                  0.001 |           -0.004 |                     0.000 |          4.691 |           5.803 |            29.539 |      434.417 |              0.047 |               0.169 |             0.206 |                  0.093 |            0.081 |                     0.030 |\n",
            "| 18 |         5.683 |          2.860 |           38.031 |     605.111 |             0.002 |             -0.002 |            0.059 |                 0.046 |          -0.023 |                   -0.009 |          0.353 |          -0.200 |             2.999 |       72.063 |             -0.001 |              -0.007 |             0.002 |                  0.003 |           -0.007 |                    -0.002 |         11.051 |           5.203 |            79.539 |     1517.417 |              0.019 |               0.061 |             0.265 |                  0.124 |           -0.013 |                    -0.008 |\n",
            "| 19 |        -0.587 |         -4.930 |           -4.509 |     -88.589 |             0.001 |             -0.023 |           -0.022 |                -0.001 |           0.007 |                   -0.005 |         -0.135 |          -0.428 |            -0.808 |      -16.777 |              0.001 |              -0.011 |            -0.008 |                  0.001 |           -0.001 |                    -0.001 |         -1.159 |          -6.417 |            -7.561 |     -169.383 |              0.012 |              -0.077 |            -0.033 |                  0.014 |            0.008 |                    -0.011 |\n"
          ]
        }
      ]
    },
    {
      "cell_type": "markdown",
      "source": [
        "### **Schritt 2**: Kovarianz-Matrix, Eigenwerte und Eigenvektoren"
      ],
      "metadata": {
        "id": "PUSmR-Fzshoo"
      }
    },
    {
      "cell_type": "markdown",
      "source": [
        "#### Kovarianz-Matrix"
      ],
      "metadata": {
        "id": "I5cDiuBVuDTZ"
      }
    },
    {
      "cell_type": "code",
      "source": [
        "# Kovarianzmatrix berechnen\n"
      ],
      "metadata": {
        "id": "7fq4y-rGtdU_"
      },
      "execution_count": 31,
      "outputs": []
    },
    {
      "cell_type": "code",
      "source": [
        "# Kovarianzmatrix plotten\n"
      ],
      "metadata": {
        "id": "u4v2wQPFtxfA"
      },
      "execution_count": 32,
      "outputs": []
    },
    {
      "cell_type": "markdown",
      "source": [
        "#### Eigenwerte und Eigenvektoren"
      ],
      "metadata": {
        "id": "wYn44FwSuGZn"
      }
    },
    {
      "cell_type": "code",
      "source": [
        "# Eigenwerte und Eigenvektoren berechnen\n"
      ],
      "metadata": {
        "id": "hUxwmOTAuPa_"
      },
      "execution_count": 33,
      "outputs": []
    },
    {
      "cell_type": "code",
      "source": [
        "# Eigenwerte absteigend sortieren\n"
      ],
      "metadata": {
        "id": "JEr4HapSuUqE"
      },
      "execution_count": 34,
      "outputs": []
    },
    {
      "cell_type": "markdown",
      "source": [
        "### **Schritt 3**: Ladungsmatrix"
      ],
      "metadata": {
        "id": "-y4Hu1a2snON"
      }
    },
    {
      "cell_type": "code",
      "source": [
        "# Ladungsmatrix erstellen und ausgeben"
      ],
      "metadata": {
        "id": "vZ7gIOYVtqJV"
      },
      "execution_count": 35,
      "outputs": []
    },
    {
      "cell_type": "code",
      "source": [
        "# Heatmap der Ladungsmatrix erzeugen"
      ],
      "metadata": {
        "id": "T_c1u0tOu9LK"
      },
      "execution_count": 36,
      "outputs": []
    },
    {
      "cell_type": "markdown",
      "source": [
        "### **Schritt 4**: Wahl der Hauptkomponenten"
      ],
      "metadata": {
        "id": "EAh4yC1Qsuy9"
      }
    },
    {
      "cell_type": "markdown",
      "source": [
        "#### Scree Plot"
      ],
      "metadata": {
        "id": "pxiZ9R2fweKx"
      }
    },
    {
      "cell_type": "code",
      "source": [
        "# Scree Plot erzeugen"
      ],
      "metadata": {
        "id": "d65RRxLMwAQQ"
      },
      "execution_count": 37,
      "outputs": []
    },
    {
      "cell_type": "markdown",
      "source": [
        "#### Kumulierte Varianz"
      ],
      "metadata": {
        "id": "zcisN298whH0"
      }
    },
    {
      "cell_type": "code",
      "source": [
        "# Plot der kumulierten Varianzen"
      ],
      "metadata": {
        "id": "EouIc05wwgOI"
      },
      "execution_count": 38,
      "outputs": []
    },
    {
      "cell_type": "code",
      "source": [
        "# Komponentenanzahl für 90 % bzw. 95 % Varianz bestimmen"
      ],
      "metadata": {
        "id": "CkrN6oc3yOgg"
      },
      "execution_count": 39,
      "outputs": []
    },
    {
      "cell_type": "markdown",
      "source": [
        "### **Schritt 5**: Projektion"
      ],
      "metadata": {
        "id": "j9i9fH-3s0jA"
      }
    },
    {
      "cell_type": "code",
      "source": [
        "# Anzahl der Hauptkomponenten festlegen\n",
        "num_components = max(n_95,2); # n_90 bei 90% erklaerter Varianz / mindestens 2 Komponenten für den nächsten Plot\n",
        "\n",
        "# Projektion durchführen"
      ],
      "metadata": {
        "id": "zXMRoh2hyS-k"
      },
      "execution_count": 40,
      "outputs": []
    },
    {
      "cell_type": "markdown",
      "source": [
        "#### Visualisierung der Projizierten Daten"
      ],
      "metadata": {
        "id": "RyEe2u-YzlRj"
      }
    },
    {
      "cell_type": "code",
      "source": [
        "# Daten gegen PC1 und PC2 plotten"
      ],
      "metadata": {
        "id": "ydNb7bw4zogY"
      },
      "execution_count": 41,
      "outputs": []
    }
  ]
}